{
 "cells": [
  {
   "cell_type": "markdown",
   "metadata": {},
   "source": [
    "### __7) Dense network__ \n",
    "\n",
    "\n",
    "Finally, try with neural networks\n",
    "- 1-layer dense network i.e. no hidden layer, just the input and output ones\n",
    "- 2-layer dense network i.e. one hidden layer"
   ]
  },
  {
   "cell_type": "code",
   "execution_count": 1,
   "metadata": {},
   "outputs": [
    {
     "name": "stderr",
     "output_type": "stream",
     "text": [
      "Using TensorFlow backend.\n"
     ]
    }
   ],
   "source": [
    "import numpy as np\n",
    "import matplotlib.pyplot as plt\n",
    "import tensorflow as tf\n",
    "from keras.utils import plot_model\n",
    "\n",
    "import keras\n",
    "from keras.datasets import mnist\n",
    "from keras.models import Sequential\n",
    "from keras.layers import Dense, Dropout, Flatten\n",
    "from keras.layers import Conv2D, MaxPooling2D\n",
    "from keras import backend as K\n",
    "import pandas as pd\n",
    "from tensorflow.keras.utils import to_categorical   "
   ]
  },
  {
   "cell_type": "code",
   "execution_count": 2,
   "metadata": {},
   "outputs": [],
   "source": [
    "data_dir = 'C:/Users/tgdreju4/OneDrive - Swisscom/EPFL/Notebooks/04ML/swissroads/'\n",
    "my_dir = data_dir + 'test/'"
   ]
  },
  {
   "cell_type": "code",
   "execution_count": 3,
   "metadata": {},
   "outputs": [],
   "source": [
    "with np.load(data_dir + 'train.npz', allow_pickle=False) as npz_file:\n",
    "    X_tr   = npz_file['features']\n",
    "    y_tr   = npz_file['labels']\n",
    "    train_data = dict(npz_file.items())\n",
    "\n",
    "    \n",
    "with np.load(data_dir + 'test.npz', allow_pickle=False) as npz_file:\n",
    "    X_te = npz_file['features']\n",
    "    y_te   = npz_file['labels']    \n",
    "    test_data = dict(npz_file.items())\n",
    "    \n",
    "with np.load(data_dir + 'valid.npz', allow_pickle=False) as npz_file:\n",
    "    X_va = npz_file['features']\n",
    "    y_va   = npz_file['labels']    \n",
    "    valid_data = dict(npz_file.items())    \n",
    "\n",
    "# Create X/y arrays\n",
    "X_tr = train_data['features']\n",
    "X_te = test_data['features']\n",
    "X_va = valid_data['features']\n",
    "y_tr = train_data['labels']\n",
    "y_te = test_data['labels']\n",
    "y_va = valid_data['labels']\n",
    "z_tr = train_data['files']\n",
    "z_te = test_data['files']\n",
    "\n"
   ]
  },
  {
   "cell_type": "code",
   "execution_count": 4,
   "metadata": {},
   "outputs": [
    {
     "name": "stdout",
     "output_type": "stream",
     "text": [
      "<TensorSliceDataset shapes: ((2048,), ()), types: (tf.float32, tf.int32)>\n"
     ]
    }
   ],
   "source": [
    "# Beispiel https://www.tensorflow.org/tutorials/load_data/numpy\n",
    "train_dataset = tf.data.Dataset.from_tensor_slices((X_tr, y_tr))\n",
    "test_dataset  = tf.data.Dataset.from_tensor_slices((X_te, y_te))\n",
    "valid_dataset  = tf.data.Dataset.from_tensor_slices((X_va, y_va))\n",
    "print(train_dataset)\n",
    "\n",
    "BATCH_SIZE = 64\n",
    "SHUFFLE_BUFFER_SIZE = 100\n",
    "\n",
    "train_dataset = train_dataset.shuffle(SHUFFLE_BUFFER_SIZE).batch(BATCH_SIZE)\n",
    "test_dataset  = test_dataset.batch(BATCH_SIZE)\n",
    "valid_dataset  = valid_dataset.batch(BATCH_SIZE)"
   ]
  },
  {
   "cell_type": "code",
   "execution_count": 5,
   "metadata": {},
   "outputs": [],
   "source": [
    "epoch_val = 60"
   ]
  },
  {
   "cell_type": "code",
   "execution_count": 6,
   "metadata": {},
   "outputs": [],
   "source": [
    "# End training when accuracy stops improving (optional)\n",
    "early_stopping = keras.callbacks.EarlyStopping(monitor='loss', patience=6)"
   ]
  },
  {
   "cell_type": "markdown",
   "metadata": {},
   "source": [
    "#### 1-layer dense network"
   ]
  },
  {
   "cell_type": "code",
   "execution_count": 7,
   "metadata": {},
   "outputs": [
    {
     "name": "stdout",
     "output_type": "stream",
     "text": [
      "Train on 280 samples, validate on 139 samples\n",
      "Epoch 1/60\n",
      "280/280 - 1s - loss: 1.8013 - accuracy: 0.2786 - val_loss: 1.3163 - val_accuracy: 0.5827\n",
      "Epoch 2/60\n",
      "280/280 - 0s - loss: 1.2493 - accuracy: 0.6321 - val_loss: 0.9160 - val_accuracy: 0.8058\n",
      "Epoch 3/60\n",
      "280/280 - 0s - loss: 0.8669 - accuracy: 0.7857 - val_loss: 0.6723 - val_accuracy: 0.8273\n",
      "Epoch 4/60\n",
      "280/280 - 0s - loss: 0.6497 - accuracy: 0.8250 - val_loss: 0.5327 - val_accuracy: 0.8849\n",
      "Epoch 5/60\n",
      "280/280 - 0s - loss: 0.4992 - accuracy: 0.8786 - val_loss: 0.4487 - val_accuracy: 0.9137\n",
      "Epoch 6/60\n",
      "280/280 - 0s - loss: 0.4119 - accuracy: 0.8929 - val_loss: 0.3952 - val_accuracy: 0.8993\n",
      "Epoch 7/60\n",
      "280/280 - 0s - loss: 0.3501 - accuracy: 0.9321 - val_loss: 0.3643 - val_accuracy: 0.9065\n",
      "Epoch 8/60\n",
      "280/280 - 0s - loss: 0.3111 - accuracy: 0.9393 - val_loss: 0.3387 - val_accuracy: 0.9209\n",
      "Epoch 9/60\n",
      "280/280 - 0s - loss: 0.2820 - accuracy: 0.9500 - val_loss: 0.3281 - val_accuracy: 0.8993\n",
      "Epoch 10/60\n",
      "280/280 - 0s - loss: 0.2540 - accuracy: 0.9500 - val_loss: 0.3059 - val_accuracy: 0.9137\n",
      "Epoch 11/60\n",
      "280/280 - 0s - loss: 0.2273 - accuracy: 0.9607 - val_loss: 0.3006 - val_accuracy: 0.8993\n",
      "Epoch 12/60\n",
      "280/280 - 0s - loss: 0.2087 - accuracy: 0.9607 - val_loss: 0.2971 - val_accuracy: 0.8993\n",
      "Epoch 13/60\n",
      "280/280 - 0s - loss: 0.1955 - accuracy: 0.9643 - val_loss: 0.2902 - val_accuracy: 0.9137\n",
      "Epoch 14/60\n",
      "280/280 - 0s - loss: 0.1806 - accuracy: 0.9643 - val_loss: 0.2881 - val_accuracy: 0.8993\n",
      "Epoch 15/60\n",
      "280/280 - 0s - loss: 0.1692 - accuracy: 0.9750 - val_loss: 0.2905 - val_accuracy: 0.8993\n",
      "Epoch 16/60\n",
      "280/280 - 0s - loss: 0.1602 - accuracy: 0.9821 - val_loss: 0.2818 - val_accuracy: 0.8993\n",
      "Epoch 17/60\n",
      "280/280 - 0s - loss: 0.1479 - accuracy: 0.9786 - val_loss: 0.2785 - val_accuracy: 0.9209\n",
      "Epoch 18/60\n",
      "280/280 - 0s - loss: 0.1446 - accuracy: 0.9643 - val_loss: 0.2744 - val_accuracy: 0.9209\n",
      "Epoch 19/60\n",
      "280/280 - 0s - loss: 0.1318 - accuracy: 0.9750 - val_loss: 0.2823 - val_accuracy: 0.8993\n",
      "Epoch 20/60\n",
      "280/280 - 0s - loss: 0.1295 - accuracy: 0.9857 - val_loss: 0.2840 - val_accuracy: 0.8921\n",
      "Epoch 21/60\n",
      "280/280 - 0s - loss: 0.1182 - accuracy: 0.9821 - val_loss: 0.2712 - val_accuracy: 0.9209\n",
      "Epoch 22/60\n",
      "280/280 - 0s - loss: 0.1161 - accuracy: 0.9857 - val_loss: 0.2693 - val_accuracy: 0.9209\n",
      "Epoch 23/60\n",
      "280/280 - 0s - loss: 0.1095 - accuracy: 0.9857 - val_loss: 0.2751 - val_accuracy: 0.8993\n",
      "Epoch 24/60\n",
      "280/280 - 0s - loss: 0.1009 - accuracy: 0.9893 - val_loss: 0.2688 - val_accuracy: 0.9137\n",
      "Epoch 25/60\n",
      "280/280 - 0s - loss: 0.0956 - accuracy: 0.9893 - val_loss: 0.2683 - val_accuracy: 0.9137\n",
      "Epoch 26/60\n",
      "280/280 - 0s - loss: 0.0918 - accuracy: 0.9893 - val_loss: 0.2690 - val_accuracy: 0.9137\n",
      "Epoch 27/60\n",
      "280/280 - 0s - loss: 0.0874 - accuracy: 0.9929 - val_loss: 0.2674 - val_accuracy: 0.9137\n",
      "Epoch 28/60\n",
      "280/280 - 0s - loss: 0.0837 - accuracy: 0.9929 - val_loss: 0.2677 - val_accuracy: 0.9137\n",
      "Epoch 29/60\n",
      "280/280 - 0s - loss: 0.0798 - accuracy: 0.9964 - val_loss: 0.2711 - val_accuracy: 0.9065\n",
      "Epoch 30/60\n",
      "280/280 - 0s - loss: 0.0784 - accuracy: 0.9964 - val_loss: 0.2709 - val_accuracy: 0.9065\n",
      "Epoch 31/60\n",
      "280/280 - 0s - loss: 0.0744 - accuracy: 0.9964 - val_loss: 0.2688 - val_accuracy: 0.9137\n",
      "Epoch 32/60\n",
      "280/280 - 0s - loss: 0.0704 - accuracy: 1.0000 - val_loss: 0.2693 - val_accuracy: 0.9065\n",
      "Epoch 33/60\n",
      "280/280 - 0s - loss: 0.0675 - accuracy: 1.0000 - val_loss: 0.2707 - val_accuracy: 0.9065\n",
      "Epoch 34/60\n",
      "280/280 - 0s - loss: 0.0652 - accuracy: 1.0000 - val_loss: 0.2668 - val_accuracy: 0.9065\n",
      "Epoch 35/60\n",
      "280/280 - 0s - loss: 0.0624 - accuracy: 1.0000 - val_loss: 0.2653 - val_accuracy: 0.9137\n",
      "Epoch 36/60\n",
      "280/280 - 0s - loss: 0.0605 - accuracy: 1.0000 - val_loss: 0.2669 - val_accuracy: 0.9065\n",
      "Epoch 37/60\n",
      "280/280 - 0s - loss: 0.0580 - accuracy: 1.0000 - val_loss: 0.2669 - val_accuracy: 0.9065\n",
      "Epoch 38/60\n",
      "280/280 - 0s - loss: 0.0560 - accuracy: 1.0000 - val_loss: 0.2647 - val_accuracy: 0.9065\n",
      "Epoch 39/60\n",
      "280/280 - 0s - loss: 0.0542 - accuracy: 1.0000 - val_loss: 0.2653 - val_accuracy: 0.9065\n",
      "Epoch 40/60\n",
      "280/280 - 0s - loss: 0.0527 - accuracy: 1.0000 - val_loss: 0.2615 - val_accuracy: 0.9137\n",
      "Epoch 41/60\n",
      "280/280 - 0s - loss: 0.0510 - accuracy: 1.0000 - val_loss: 0.2658 - val_accuracy: 0.9065\n",
      "Epoch 42/60\n",
      "280/280 - 0s - loss: 0.0491 - accuracy: 1.0000 - val_loss: 0.2686 - val_accuracy: 0.9137\n",
      "Epoch 43/60\n",
      "280/280 - 0s - loss: 0.0477 - accuracy: 1.0000 - val_loss: 0.2705 - val_accuracy: 0.9065\n",
      "Epoch 44/60\n",
      "280/280 - 0s - loss: 0.0457 - accuracy: 1.0000 - val_loss: 0.2677 - val_accuracy: 0.9065\n",
      "Epoch 45/60\n",
      "280/280 - 0s - loss: 0.0438 - accuracy: 1.0000 - val_loss: 0.2634 - val_accuracy: 0.9137\n",
      "Epoch 46/60\n",
      "280/280 - 0s - loss: 0.0433 - accuracy: 1.0000 - val_loss: 0.2621 - val_accuracy: 0.9065\n",
      "Epoch 47/60\n",
      "280/280 - 0s - loss: 0.0417 - accuracy: 1.0000 - val_loss: 0.2647 - val_accuracy: 0.9065\n",
      "Epoch 48/60\n",
      "280/280 - 0s - loss: 0.0405 - accuracy: 1.0000 - val_loss: 0.2673 - val_accuracy: 0.9137\n",
      "Epoch 49/60\n",
      "280/280 - 0s - loss: 0.0393 - accuracy: 1.0000 - val_loss: 0.2676 - val_accuracy: 0.9065\n",
      "Epoch 50/60\n",
      "280/280 - 0s - loss: 0.0379 - accuracy: 1.0000 - val_loss: 0.2667 - val_accuracy: 0.9065\n",
      "Epoch 51/60\n",
      "280/280 - 0s - loss: 0.0371 - accuracy: 1.0000 - val_loss: 0.2656 - val_accuracy: 0.9065\n",
      "Epoch 52/60\n",
      "280/280 - 0s - loss: 0.0362 - accuracy: 1.0000 - val_loss: 0.2648 - val_accuracy: 0.9065\n",
      "Epoch 53/60\n",
      "280/280 - 0s - loss: 0.0352 - accuracy: 1.0000 - val_loss: 0.2670 - val_accuracy: 0.9065\n",
      "Epoch 54/60\n",
      "280/280 - 0s - loss: 0.0342 - accuracy: 1.0000 - val_loss: 0.2676 - val_accuracy: 0.9065\n",
      "Epoch 55/60\n",
      "280/280 - 0s - loss: 0.0332 - accuracy: 1.0000 - val_loss: 0.2662 - val_accuracy: 0.9065\n",
      "Epoch 56/60\n",
      "280/280 - 0s - loss: 0.0323 - accuracy: 1.0000 - val_loss: 0.2678 - val_accuracy: 0.9065\n",
      "Epoch 57/60\n",
      "280/280 - 0s - loss: 0.0316 - accuracy: 1.0000 - val_loss: 0.2685 - val_accuracy: 0.9065\n",
      "Epoch 58/60\n",
      "280/280 - 0s - loss: 0.0309 - accuracy: 1.0000 - val_loss: 0.2697 - val_accuracy: 0.9065\n",
      "Epoch 59/60\n",
      "280/280 - 0s - loss: 0.0301 - accuracy: 1.0000 - val_loss: 0.2678 - val_accuracy: 0.8993\n",
      "Epoch 60/60\n",
      "280/280 - 0s - loss: 0.0294 - accuracy: 1.0000 - val_loss: 0.2688 - val_accuracy: 0.9065\n"
     ]
    }
   ],
   "source": [
    "# 1 Layer very simple model\n",
    "\n",
    "model = tf.keras.Sequential([\n",
    "        tf.keras.layers.Input(shape=(2048,),name='input'), \n",
    "        tf.keras.layers.Dense(6, activation='softmax',name='output') ])\n",
    " \n",
    "model.build()\n",
    "\n",
    "model.compile(#optimizer=tf.keras.optimizers.RMSprop(),\n",
    "              #loss=tf.keras.losses.SparseCategoricalCrossentropy(from_logits=True),\n",
    "              optimizer=tf.keras.optimizers.Adam(),\n",
    "              #optimizer= \"adam\",\n",
    "              loss='categorical_crossentropy',    \n",
    "              #metrics=[tf.keras.metrics.Accuracy()]\n",
    "              #metrics=['sparse_categorical_accuracy'] \n",
    "              metrics=['accuracy']\n",
    "             )\n",
    "\n",
    "history=model.fit(X_tr, \n",
    "                  to_categorical(y_tr, num_classes=None, dtype='float32'),\n",
    "                  epochs=epoch_val ,\n",
    "                  batch_size=BATCH_SIZE,\n",
    "                  callbacks=[early_stopping],\n",
    "                  validation_data=(X_va,  to_categorical(y_va, num_classes=None, dtype='float32')),\n",
    "                  verbose=2 # verbose=0 will show nothing (silent) )\n",
    "                          )   \n",
    "\n"
   ]
  },
  {
   "cell_type": "code",
   "execution_count": 8,
   "metadata": {},
   "outputs": [
    {
     "data": {
      "text/plain": [
       "0.92086333"
      ]
     },
     "execution_count": 8,
     "metadata": {},
     "output_type": "execute_result"
    }
   ],
   "source": [
    "one_layer_nn = max(history.history['val_accuracy'])\n",
    "one_layer_nn"
   ]
  },
  {
   "cell_type": "code",
   "execution_count": 9,
   "metadata": {},
   "outputs": [
    {
     "data": {
      "text/plain": [
       "Text(0, 0.5, 'loss')"
      ]
     },
     "execution_count": 9,
     "metadata": {},
     "output_type": "execute_result"
    },
    {
     "data": {
      "image/png": "[encoded data removed]",
      "text/plain": [
       "<Figure size 864x288 with 2 Axes>"
      ]
     },
     "metadata": {
      "needs_background": "light"
     },
     "output_type": "display_data"
    }
   ],
   "source": [
    "# summarize history for accuracy\n",
    "fig, (ax1, ax2) = plt.subplots(1, 2,figsize=(12,4))\n",
    "fig.suptitle('accuracy and loss')\n",
    "ax1.plot(history.history['accuracy'])\n",
    "ax1.plot(history.history['val_accuracy'])\n",
    "ax1.set_xlabel('epoches')\n",
    "ax1.set_ylabel('accuracy')\n",
    "\n",
    "ax1.legend(['train', 'valid'], loc='best')\n",
    "\n",
    "ax2.plot(history.history['loss'])\n",
    "ax2.plot(history.history['val_loss'])\n",
    "ax2.legend(['train', 'valid'], loc='best')\n",
    "ax2.set_xlabel('epoches')\n",
    "ax2.set_ylabel('loss')"
   ]
  },
  {
   "cell_type": "markdown",
   "metadata": {},
   "source": [
    "__Result:__\n",
    "> The validation loss and accuracy is improving until epoch=10 and is then reachning a plateau."
   ]
  },
  {
   "cell_type": "markdown",
   "metadata": {},
   "source": [
    "#### __2 layer network__\n",
    "Add one hidden layer and rerun the model"
   ]
  },
  {
   "cell_type": "code",
   "execution_count": 10,
   "metadata": {},
   "outputs": [
    {
     "name": "stdout",
     "output_type": "stream",
     "text": [
      "Train on 280 samples, validate on 139 samples\n",
      "Epoch 1/60\n",
      "280/280 [==============================] - 1s 2ms/sample - loss: 2.4400 - accuracy: 0.3714 - val_loss: 0.6948 - val_accuracy: 0.8058\n",
      "Epoch 2/60\n",
      "280/280 [==============================] - 0s 100us/sample - loss: 0.9018 - accuracy: 0.7714 - val_loss: 0.6577 - val_accuracy: 0.7626\n",
      "Epoch 3/60\n",
      "280/280 [==============================] - 0s 118us/sample - loss: 0.3370 - accuracy: 0.8643 - val_loss: 0.5773 - val_accuracy: 0.7914\n",
      "Epoch 4/60\n",
      "280/280 [==============================] - 0s 100us/sample - loss: 0.5364 - accuracy: 0.8464 - val_loss: 0.3875 - val_accuracy: 0.8633\n",
      "Epoch 5/60\n",
      "280/280 [==============================] - 0s 139us/sample - loss: 0.2412 - accuracy: 0.9107 - val_loss: 0.3200 - val_accuracy: 0.8849\n",
      "Epoch 6/60\n",
      "280/280 [==============================] - 0s 114us/sample - loss: 0.2136 - accuracy: 0.9214 - val_loss: 0.3089 - val_accuracy: 0.9065\n",
      "Epoch 7/60\n",
      "280/280 [==============================] - 0s 118us/sample - loss: 0.1751 - accuracy: 0.9286 - val_loss: 0.3103 - val_accuracy: 0.8849\n",
      "Epoch 8/60\n",
      "280/280 [==============================] - 0s 103us/sample - loss: 0.1315 - accuracy: 0.9607 - val_loss: 0.2747 - val_accuracy: 0.8993\n",
      "Epoch 9/60\n",
      "280/280 [==============================] - 0s 121us/sample - loss: 0.0802 - accuracy: 0.9750 - val_loss: 0.2679 - val_accuracy: 0.9209\n",
      "Epoch 10/60\n",
      "280/280 [==============================] - 0s 132us/sample - loss: 0.0684 - accuracy: 0.9821 - val_loss: 0.2661 - val_accuracy: 0.8993\n",
      "Epoch 11/60\n",
      "280/280 [==============================] - 0s 110us/sample - loss: 0.0559 - accuracy: 0.9857 - val_loss: 0.2754 - val_accuracy: 0.9281\n",
      "Epoch 12/60\n",
      "280/280 [==============================] - 0s 103us/sample - loss: 0.0474 - accuracy: 0.9893 - val_loss: 0.2843 - val_accuracy: 0.9209\n",
      "Epoch 13/60\n",
      "280/280 [==============================] - 0s 110us/sample - loss: 0.0412 - accuracy: 0.9964 - val_loss: 0.2827 - val_accuracy: 0.9209\n",
      "Epoch 14/60\n",
      "280/280 [==============================] - 0s 114us/sample - loss: 0.0333 - accuracy: 1.0000 - val_loss: 0.2812 - val_accuracy: 0.9209\n",
      "Epoch 15/60\n",
      "280/280 [==============================] - 0s 125us/sample - loss: 0.0288 - accuracy: 1.0000 - val_loss: 0.2787 - val_accuracy: 0.9209\n",
      "Epoch 16/60\n",
      "280/280 [==============================] - 0s 114us/sample - loss: 0.0255 - accuracy: 1.0000 - val_loss: 0.2787 - val_accuracy: 0.9209\n",
      "Epoch 17/60\n",
      "280/280 [==============================] - 0s 139us/sample - loss: 0.0228 - accuracy: 1.0000 - val_loss: 0.2857 - val_accuracy: 0.9209\n",
      "Epoch 18/60\n",
      "280/280 [==============================] - 0s 160us/sample - loss: 0.0199 - accuracy: 1.0000 - val_loss: 0.2855 - val_accuracy: 0.8993\n",
      "Epoch 19/60\n",
      "280/280 [==============================] - 0s 150us/sample - loss: 0.0187 - accuracy: 1.0000 - val_loss: 0.2878 - val_accuracy: 0.8993\n",
      "Epoch 20/60\n",
      "280/280 [==============================] - 0s 142us/sample - loss: 0.0161 - accuracy: 1.0000 - val_loss: 0.2922 - val_accuracy: 0.9137\n",
      "Epoch 21/60\n",
      "280/280 [==============================] - 0s 217us/sample - loss: 0.0150 - accuracy: 1.0000 - val_loss: 0.2888 - val_accuracy: 0.8993\n",
      "Epoch 22/60\n",
      "280/280 [==============================] - 0s 164us/sample - loss: 0.0136 - accuracy: 1.0000 - val_loss: 0.2928 - val_accuracy: 0.9065\n",
      "Epoch 23/60\n",
      "280/280 [==============================] - 0s 171us/sample - loss: 0.0127 - accuracy: 1.0000 - val_loss: 0.3001 - val_accuracy: 0.9065\n",
      "Epoch 24/60\n",
      "280/280 [==============================] - 0s 167us/sample - loss: 0.0116 - accuracy: 1.0000 - val_loss: 0.2988 - val_accuracy: 0.8993\n",
      "Epoch 25/60\n",
      "280/280 [==============================] - 0s 132us/sample - loss: 0.0105 - accuracy: 1.0000 - val_loss: 0.3020 - val_accuracy: 0.9065\n",
      "Epoch 26/60\n",
      "280/280 [==============================] - 0s 128us/sample - loss: 0.0099 - accuracy: 1.0000 - val_loss: 0.3023 - val_accuracy: 0.9065\n",
      "Epoch 27/60\n",
      "280/280 [==============================] - 0s 146us/sample - loss: 0.0090 - accuracy: 1.0000 - val_loss: 0.3009 - val_accuracy: 0.8993\n",
      "Epoch 28/60\n",
      "280/280 [==============================] - 0s 128us/sample - loss: 0.0084 - accuracy: 1.0000 - val_loss: 0.3041 - val_accuracy: 0.8993\n",
      "Epoch 29/60\n",
      "280/280 [==============================] - 0s 114us/sample - loss: 0.0078 - accuracy: 1.0000 - val_loss: 0.3095 - val_accuracy: 0.9065\n",
      "Epoch 30/60\n",
      "280/280 [==============================] - 0s 142us/sample - loss: 0.0074 - accuracy: 1.0000 - val_loss: 0.3084 - val_accuracy: 0.9065\n",
      "Epoch 31/60\n",
      "280/280 [==============================] - 0s 132us/sample - loss: 0.0069 - accuracy: 1.0000 - val_loss: 0.3081 - val_accuracy: 0.8993\n",
      "Epoch 32/60\n",
      "280/280 [==============================] - 0s 114us/sample - loss: 0.0066 - accuracy: 1.0000 - val_loss: 0.3075 - val_accuracy: 0.8993\n",
      "Epoch 33/60\n",
      "280/280 [==============================] - 0s 132us/sample - loss: 0.0062 - accuracy: 1.0000 - val_loss: 0.3100 - val_accuracy: 0.9065\n",
      "Epoch 34/60\n",
      "280/280 [==============================] - 0s 164us/sample - loss: 0.0059 - accuracy: 1.0000 - val_loss: 0.3128 - val_accuracy: 0.9065\n",
      "Epoch 35/60\n",
      "280/280 [==============================] - 0s 150us/sample - loss: 0.0056 - accuracy: 1.0000 - val_loss: 0.3153 - val_accuracy: 0.9065\n",
      "Epoch 36/60\n",
      "280/280 [==============================] - 0s 150us/sample - loss: 0.0053 - accuracy: 1.0000 - val_loss: 0.3165 - val_accuracy: 0.9065\n",
      "Epoch 37/60\n",
      "280/280 [==============================] - 0s 157us/sample - loss: 0.0050 - accuracy: 1.0000 - val_loss: 0.3192 - val_accuracy: 0.9065\n",
      "Epoch 38/60\n",
      "280/280 [==============================] - 0s 164us/sample - loss: 0.0048 - accuracy: 1.0000 - val_loss: 0.3199 - val_accuracy: 0.9065\n",
      "Epoch 39/60\n",
      "280/280 [==============================] - 0s 160us/sample - loss: 0.0046 - accuracy: 1.0000 - val_loss: 0.3192 - val_accuracy: 0.8993\n",
      "Epoch 40/60\n",
      "280/280 [==============================] - 0s 146us/sample - loss: 0.0044 - accuracy: 1.0000 - val_loss: 0.3201 - val_accuracy: 0.8993\n",
      "Epoch 41/60\n",
      "280/280 [==============================] - 0s 135us/sample - loss: 0.0042 - accuracy: 1.0000 - val_loss: 0.3218 - val_accuracy: 0.9065\n",
      "Epoch 42/60\n",
      "280/280 [==============================] - 0s 139us/sample - loss: 0.0040 - accuracy: 1.0000 - val_loss: 0.3237 - val_accuracy: 0.9065\n",
      "Epoch 43/60\n",
      "280/280 [==============================] - 0s 121us/sample - loss: 0.0038 - accuracy: 1.0000 - val_loss: 0.3230 - val_accuracy: 0.8993\n",
      "Epoch 44/60\n",
      "280/280 [==============================] - 0s 143us/sample - loss: 0.0037 - accuracy: 1.0000 - val_loss: 0.3243 - val_accuracy: 0.9065\n",
      "Epoch 45/60\n",
      "280/280 [==============================] - 0s 132us/sample - loss: 0.0035 - accuracy: 1.0000 - val_loss: 0.3263 - val_accuracy: 0.9065\n",
      "Epoch 46/60\n",
      "280/280 [==============================] - 0s 125us/sample - loss: 0.0034 - accuracy: 1.0000 - val_loss: 0.3291 - val_accuracy: 0.9065\n",
      "Epoch 47/60\n",
      "280/280 [==============================] - 0s 142us/sample - loss: 0.0032 - accuracy: 1.0000 - val_loss: 0.3293 - val_accuracy: 0.8993\n",
      "Epoch 48/60\n",
      "280/280 [==============================] - 0s 125us/sample - loss: 0.0032 - accuracy: 1.0000 - val_loss: 0.3317 - val_accuracy: 0.8993\n",
      "Epoch 49/60\n",
      "280/280 [==============================] - 0s 142us/sample - loss: 0.0030 - accuracy: 1.0000 - val_loss: 0.3326 - val_accuracy: 0.8993\n",
      "Epoch 50/60\n",
      "280/280 [==============================] - 0s 157us/sample - loss: 0.0029 - accuracy: 1.0000 - val_loss: 0.3346 - val_accuracy: 0.9065\n",
      "Epoch 51/60\n",
      "280/280 [==============================] - 0s 157us/sample - loss: 0.0028 - accuracy: 1.0000 - val_loss: 0.3354 - val_accuracy: 0.9065\n",
      "Epoch 52/60\n",
      "280/280 [==============================] - 0s 146us/sample - loss: 0.0027 - accuracy: 1.0000 - val_loss: 0.3359 - val_accuracy: 0.9065\n",
      "Epoch 53/60\n",
      "280/280 [==============================] - 0s 160us/sample - loss: 0.0027 - accuracy: 1.0000 - val_loss: 0.3338 - val_accuracy: 0.8993\n",
      "Epoch 54/60\n",
      "280/280 [==============================] - 0s 164us/sample - loss: 0.0025 - accuracy: 1.0000 - val_loss: 0.3368 - val_accuracy: 0.8993\n",
      "Epoch 55/60\n",
      "280/280 [==============================] - 0s 146us/sample - loss: 0.0024 - accuracy: 1.0000 - val_loss: 0.3375 - val_accuracy: 0.8993\n",
      "Epoch 56/60\n",
      "280/280 [==============================] - 0s 132us/sample - loss: 0.0024 - accuracy: 1.0000 - val_loss: 0.3372 - val_accuracy: 0.8993\n",
      "Epoch 57/60\n",
      "280/280 [==============================] - 0s 139us/sample - loss: 0.0023 - accuracy: 1.0000 - val_loss: 0.3376 - val_accuracy: 0.8993\n",
      "Epoch 58/60\n",
      "280/280 [==============================] - 0s 150us/sample - loss: 0.0022 - accuracy: 1.0000 - val_loss: 0.3390 - val_accuracy: 0.8993\n",
      "Epoch 59/60\n",
      "280/280 [==============================] - 0s 125us/sample - loss: 0.0022 - accuracy: 1.0000 - val_loss: 0.3419 - val_accuracy: 0.8993\n",
      "Epoch 60/60\n",
      "280/280 [==============================] - 0s 132us/sample - loss: 0.0021 - accuracy: 1.0000 - val_loss: 0.3436 - val_accuracy: 0.8993\n"
     ]
    }
   ],
   "source": [
    "model = tf.keras.Sequential([\n",
    "        tf.keras.layers.Input(shape=(2048,),name='input'),\n",
    "        tf.keras.layers.Dense(128), \n",
    "        tf.keras.layers.Dense(64),    \n",
    "        tf.keras.layers.Dense(6, activation='softmax',name='output') ])\n",
    "\n",
    "model.build()\n",
    "\n",
    "model.compile(#optimizer=tf.keras.optimizers.RMSprop(),\n",
    "              #loss=tf.keras.losses.SparseCategoricalCrossentropy(from_logits=True),\n",
    "              #optimizer=tf.keras.optimizers.Adam(),\n",
    "              optimizer= \"adam\",\n",
    "              loss='categorical_crossentropy',    \n",
    "              #metrics=[tf.keras.metrics.Accuracy()]\n",
    "              #metrics=['sparse_categorical_accuracy'] \n",
    "              metrics=['accuracy']\n",
    "             )\n",
    "\n",
    "history=model.fit(X_tr, \n",
    "                  to_categorical(y_tr, num_classes=None, dtype='float32'),\n",
    "                  epochs=epoch_val ,\n",
    "                  batch_size=BATCH_SIZE,\n",
    "                  callbacks=[early_stopping],\n",
    "                  validation_data=(X_va,  to_categorical(y_va, num_classes=None, dtype='float32')),\n",
    "                  verbose=1 # verbose=0 will show nothing (silent) )\n",
    "                          )   \n",
    "\n"
   ]
  },
  {
   "cell_type": "code",
   "execution_count": 11,
   "metadata": {},
   "outputs": [
    {
     "data": {
      "text/plain": [
       "0.92805755"
      ]
     },
     "execution_count": 11,
     "metadata": {},
     "output_type": "execute_result"
    }
   ],
   "source": [
    "two_layer_nn = max(history.history['val_accuracy'])\n",
    "two_layer_nn"
   ]
  },
  {
   "cell_type": "code",
   "execution_count": 12,
   "metadata": {},
   "outputs": [
    {
     "data": {
      "text/plain": [
       "Text(0, 0.5, 'loss')"
      ]
     },
     "execution_count": 12,
     "metadata": {},
     "output_type": "execute_result"
    },
    {
     "data": {
      "image/png": "[encoded data removed]",
      "text/plain": [
       "<Figure size 864x288 with 2 Axes>"
      ]
     },
     "metadata": {
      "needs_background": "light"
     },
     "output_type": "display_data"
    }
   ],
   "source": [
    "# summarize history for accuracy\n",
    "fig, (ax1, ax2) = plt.subplots(1, 2,figsize=(12,4))\n",
    "fig.suptitle('accuracy and loss')\n",
    "ax1.plot(history.history['accuracy'])\n",
    "ax1.plot(history.history['val_accuracy'])\n",
    "ax1.set_xlabel('epoches')\n",
    "ax1.set_ylabel('accuracy')\n",
    "\n",
    "ax1.legend(['train', 'valid'], loc='best')\n",
    "\n",
    "ax2.plot(history.history['loss'])\n",
    "ax2.plot(history.history['val_loss'])\n",
    "ax2.legend(['train', 'valid'], loc='best')\n",
    "ax2.set_xlabel('epoches')\n",
    "ax2.set_ylabel('loss')"
   ]
  },
  {
   "cell_type": "markdown",
   "metadata": {},
   "source": [
    "#### __Results__"
   ]
  },
  {
   "cell_type": "code",
   "execution_count": 13,
   "metadata": {},
   "outputs": [
    {
     "data": {
      "text/html": [
       "<div>\n",
       "<style scoped>\n",
       "    .dataframe tbody tr th:only-of-type {\n",
       "        vertical-align: middle;\n",
       "    }\n",
       "\n",
       "    .dataframe tbody tr th {\n",
       "        vertical-align: top;\n",
       "    }\n",
       "\n",
       "    .dataframe thead th {\n",
       "        text-align: right;\n",
       "    }\n",
       "</style>\n",
       "<table border=\"1\" class=\"dataframe\">\n",
       "  <thead>\n",
       "    <tr style=\"text-align: right;\">\n",
       "      <th></th>\n",
       "      <th>model</th>\n",
       "      <th>test accuracy</th>\n",
       "    </tr>\n",
       "  </thead>\n",
       "  <tbody>\n",
       "    <tr>\n",
       "      <th>0</th>\n",
       "      <td>knn</td>\n",
       "      <td>0.840000</td>\n",
       "    </tr>\n",
       "    <tr>\n",
       "      <th>1</th>\n",
       "      <td>decision tree</td>\n",
       "      <td>0.900000</td>\n",
       "    </tr>\n",
       "    <tr>\n",
       "      <th>2</th>\n",
       "      <td>Logistic</td>\n",
       "      <td>0.940000</td>\n",
       "    </tr>\n",
       "    <tr>\n",
       "      <th>3</th>\n",
       "      <td>smv linear</td>\n",
       "      <td>0.940000</td>\n",
       "    </tr>\n",
       "    <tr>\n",
       "      <th>4</th>\n",
       "      <td>smv rbf</td>\n",
       "      <td>0.940000</td>\n",
       "    </tr>\n",
       "    <tr>\n",
       "      <th>5</th>\n",
       "      <td>random forest</td>\n",
       "      <td>0.940000</td>\n",
       "    </tr>\n",
       "    <tr>\n",
       "      <th>6</th>\n",
       "      <td>1-layer nn</td>\n",
       "      <td>0.920863</td>\n",
       "    </tr>\n",
       "    <tr>\n",
       "      <th>7</th>\n",
       "      <td>2-layer nn</td>\n",
       "      <td>0.928058</td>\n",
       "    </tr>\n",
       "  </tbody>\n",
       "</table>\n",
       "</div>"
      ],
      "text/plain": [
       "           model  test accuracy\n",
       "0            knn       0.840000\n",
       "1  decision tree       0.900000\n",
       "2       Logistic       0.940000\n",
       "3     smv linear       0.940000\n",
       "4        smv rbf       0.940000\n",
       "5  random forest       0.940000\n",
       "6     1-layer nn       0.920863\n",
       "7     2-layer nn       0.928058"
      ]
     },
     "execution_count": 13,
     "metadata": {},
     "output_type": "execute_result"
    }
   ],
   "source": [
    "# Load the csv file\n",
    "df = pd.read_csv(data_dir + 'data.csv', index_col=0)\n",
    "df = df.append({\n",
    "       'model':         '1-layer nn',\n",
    "       'test accuracy': one_layer_nn\n",
    "            },ignore_index=True)  \n",
    "df = df.append({\n",
    "       'model':         '2-layer nn',\n",
    "       'test accuracy': two_layer_nn\n",
    "            },ignore_index=True)  \n",
    "\n",
    "df.to_csv(data_dir + 'data.csv')\n",
    "# read all results from csv and print \n",
    "df = pd.read_csv(data_dir + 'data.csv', index_col=0)\n",
    "df"
   ]
  }
 ],
 "metadata": {
  "kernelspec": {
   "display_name": "Python 3",
   "language": "python",
   "name": "python3"
  },
  "language_info": {
   "codemirror_mode": {
    "name": "ipython",
    "version": 3
   },
   "file_extension": ".py",
   "mimetype": "text/x-python",
   "name": "python",
   "nbconvert_exporter": "python",
   "pygments_lexer": "ipython3",
   "version": "3.6.11"
  }
 },
 "nbformat": 4,
 "nbformat_minor": 4
}
