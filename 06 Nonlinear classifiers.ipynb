{
 "cells": [
  {
   "cell_type": "markdown",
   "metadata": {},
   "source": [
    "### __6) Nonlinear classifiers__ "
   ]
  },
  {
   "cell_type": "markdown",
   "metadata": {},
   "source": [
    "Try with nonlinear classi􀁿ers, can you do better than the baseline models from above?\n",
    "- Try with a random Forest, does increasing the number of trees help?\n",
    "- Try with SVMs - does the RBF kernel perform better than the linear one?"
   ]
  },
  {
   "cell_type": "code",
   "execution_count": 1,
   "metadata": {},
   "outputs": [],
   "source": [
    "import matplotlib.image as mpimg\n",
    "import glob\n",
    "import numpy as np\n",
    "import pandas as pd\n",
    "from PIL import Image\n",
    "\n",
    "import os\n",
    "import tensorflow as tf \n",
    "from sklearn.preprocessing import StandardScaler\n",
    "from sklearn.ensemble        import RandomForestClassifier\n",
    "\n",
    "%matplotlib inline\n",
    "import seaborn as sns\n",
    "import matplotlib.pyplot as plt\n",
    "import pickle\n",
    "from sklearn.svm import SVC"
   ]
  },
  {
   "cell_type": "code",
   "execution_count": 2,
   "metadata": {},
   "outputs": [],
   "source": [
    "data_dir = 'C:/Users/tgdreju4/OneDrive - Swisscom/EPFL/Notebooks/04ML/swissroads/'\n",
    "my_dir = data_dir + 'test/'"
   ]
  },
  {
   "cell_type": "markdown",
   "metadata": {},
   "source": [
    "#### Random Forest"
   ]
  },
  {
   "cell_type": "code",
   "execution_count": 3,
   "metadata": {},
   "outputs": [],
   "source": [
    "with np.load(data_dir + 'train.npz', allow_pickle=False) as npz_file:\n",
    "    train_data = dict(npz_file.items())\n",
    "\n",
    "    \n",
    "with np.load(data_dir + 'test.npz', allow_pickle=False) as npz_file:\n",
    "    test_data = dict(npz_file.items())\n",
    "\n",
    "with np.load(data_dir + 'valid.npz', allow_pickle=False) as npz_file:\n",
    "    valid_data = dict(npz_file.items())    \n",
    "\n",
    "class_names=['bike','car','motorcycle','other','truck','van']\n",
    "\n",
    "\n",
    "# Create X/y arrays\n",
    "X_tr = train_data['features']\n",
    "X_te = test_data['features']\n",
    "X_va = valid_data['features']\n",
    "y_tr = train_data['labels']\n",
    "y_te = test_data['labels']\n",
    "y_va = valid_data['labels']\n",
    "z_tr = train_data['files']\n",
    "z_te = test_data['files']\n",
    "z_va = valid_data['files']"
   ]
  },
  {
   "cell_type": "markdown",
   "metadata": {},
   "source": [
    "#### Find the best number of trees (n_estimators)"
   ]
  },
  {
   "cell_type": "code",
   "execution_count": 4,
   "metadata": {},
   "outputs": [],
   "source": [
    "x_estimators = [1, 5, 10, 50,100, 200, 500,1000] \n",
    "x_max_depth =  [1,5,10,20,None]\n",
    "\n",
    "rf_estimator = []\n",
    "for _estimator in x_estimators:\n",
    "    for _max_depth in x_max_depth:\n",
    "        dt = RandomForestClassifier(n_estimators = _estimator, \n",
    "                                    max_depth = _max_depth, \n",
    "                                    random_state=0,\n",
    "                                    n_jobs=-1, \n",
    "                                    verbose=0\n",
    "                                   )\n",
    "        # Fit estimator\n",
    "        dt.fit(X_tr, y_tr)\n",
    "        # Accuracy on valid set\n",
    "        accuracy = dt.score(X_va, y_va)\n",
    "        #print('Accuracy: {:.3f}'.format(accuracy), ' for estimator ', estimator) # \n",
    "    \n",
    "        rf_estimator.append({'nr': _estimator, 'accuracy': accuracy, 'max_depth': _max_depth, })\n",
    "    \n"
   ]
  },
  {
   "cell_type": "code",
   "execution_count": 5,
   "metadata": {},
   "outputs": [
    {
     "data": {
      "text/html": [
       "<div>\n",
       "<style scoped>\n",
       "    .dataframe tbody tr th:only-of-type {\n",
       "        vertical-align: middle;\n",
       "    }\n",
       "\n",
       "    .dataframe tbody tr th {\n",
       "        vertical-align: top;\n",
       "    }\n",
       "\n",
       "    .dataframe thead th {\n",
       "        text-align: right;\n",
       "    }\n",
       "</style>\n",
       "<table border=\"1\" class=\"dataframe\">\n",
       "  <thead>\n",
       "    <tr style=\"text-align: right;\">\n",
       "      <th></th>\n",
       "      <th>accuracy</th>\n",
       "      <th>max_depth</th>\n",
       "      <th>nr</th>\n",
       "    </tr>\n",
       "  </thead>\n",
       "  <tbody>\n",
       "    <tr>\n",
       "      <th>19</th>\n",
       "      <td>0.920863</td>\n",
       "      <td>NaN</td>\n",
       "      <td>50</td>\n",
       "    </tr>\n",
       "    <tr>\n",
       "      <th>18</th>\n",
       "      <td>0.920863</td>\n",
       "      <td>20.0</td>\n",
       "      <td>50</td>\n",
       "    </tr>\n",
       "    <tr>\n",
       "      <th>17</th>\n",
       "      <td>0.920863</td>\n",
       "      <td>10.0</td>\n",
       "      <td>50</td>\n",
       "    </tr>\n",
       "    <tr>\n",
       "      <th>29</th>\n",
       "      <td>0.906475</td>\n",
       "      <td>NaN</td>\n",
       "      <td>200</td>\n",
       "    </tr>\n",
       "    <tr>\n",
       "      <th>28</th>\n",
       "      <td>0.906475</td>\n",
       "      <td>20.0</td>\n",
       "      <td>200</td>\n",
       "    </tr>\n",
       "    <tr>\n",
       "      <th>16</th>\n",
       "      <td>0.899281</td>\n",
       "      <td>5.0</td>\n",
       "      <td>50</td>\n",
       "    </tr>\n",
       "    <tr>\n",
       "      <th>27</th>\n",
       "      <td>0.899281</td>\n",
       "      <td>10.0</td>\n",
       "      <td>200</td>\n",
       "    </tr>\n",
       "    <tr>\n",
       "      <th>22</th>\n",
       "      <td>0.899281</td>\n",
       "      <td>10.0</td>\n",
       "      <td>100</td>\n",
       "    </tr>\n",
       "    <tr>\n",
       "      <th>33</th>\n",
       "      <td>0.892086</td>\n",
       "      <td>20.0</td>\n",
       "      <td>500</td>\n",
       "    </tr>\n",
       "    <tr>\n",
       "      <th>34</th>\n",
       "      <td>0.892086</td>\n",
       "      <td>NaN</td>\n",
       "      <td>500</td>\n",
       "    </tr>\n",
       "  </tbody>\n",
       "</table>\n",
       "</div>"
      ],
      "text/plain": [
       "    accuracy  max_depth   nr\n",
       "19  0.920863        NaN   50\n",
       "18  0.920863       20.0   50\n",
       "17  0.920863       10.0   50\n",
       "29  0.906475        NaN  200\n",
       "28  0.906475       20.0  200\n",
       "16  0.899281        5.0   50\n",
       "27  0.899281       10.0  200\n",
       "22  0.899281       10.0  100\n",
       "33  0.892086       20.0  500\n",
       "34  0.892086        NaN  500"
      ]
     },
     "execution_count": 5,
     "metadata": {},
     "output_type": "execute_result"
    }
   ],
   "source": [
    "df  = pd.DataFrame(rf_estimator)\n",
    "df.sort_values('accuracy',ascending=False).head(10)"
   ]
  },
  {
   "cell_type": "markdown",
   "metadata": {},
   "source": [
    "__Result:__\n",
    "\n",
    "> I tried different estimators (trees) together with the  RandomForest Classifier. What I see is the more trees the better the accuracy of the validation set- indendant from the max_depth value. However, the improvement decreases as the number of trees increases. At a certain point the benefit in prediction performance from learning more trees will be lower than the cost in computation time for learning these additional trees. In my case the optimal number of trees is between 100 and 500. The max_depth does not have much impact. I will chose 20."
   ]
  },
  {
   "cell_type": "code",
   "execution_count": 6,
   "metadata": {},
   "outputs": [
    {
     "data": {
      "image/png": "[encoded data removed]",
      "text/plain": [
       "<Figure size 432x288 with 1 Axes>"
      ]
     },
     "metadata": {
      "needs_background": "light"
     },
     "output_type": "display_data"
    }
   ],
   "source": [
    "%matplotlib inline\n",
    "import matplotlib.pyplot as plt\n",
    "# Plot accuracy values\n",
    "plt.plot(df[['nr','accuracy']].groupby('nr').agg(['max']).accuracy)\n",
    "plt.title('accuracy')\n",
    "\n",
    "plt.xlabel('estimator')\n",
    "plt.ylabel('accuracy')\n",
    "plt.show()"
   ]
  },
  {
   "cell_type": "code",
   "execution_count": 7,
   "metadata": {},
   "outputs": [
    {
     "name": "stdout",
     "output_type": "stream",
     "text": [
      "Accuracy: 0.940\n"
     ]
    }
   ],
   "source": [
    "from sklearn.ensemble import RandomForestClassifier\n",
    "\n",
    "\n",
    "# Create a RandomForestClassifier without best parameters (this is the result from the tree search)\n",
    "dt = RandomForestClassifier(n_estimators=200, max_depth=20, random_state=0)\n",
    "# Fit estimator\n",
    "dt.fit(X_tr, y_tr)\n",
    "# Accuracy on test set\n",
    "accuracy_rf_test = dt.score(X_te, y_te)\n",
    "print('Accuracy: {:.3f}'.format(accuracy_rf_test)) # "
   ]
  },
  {
   "cell_type": "markdown",
   "metadata": {},
   "source": [
    "#### Support Vector Machines"
   ]
  },
  {
   "cell_type": "markdown",
   "metadata": {},
   "source": [
    "First test with linear and rbf kernel and tune parameters"
   ]
  },
  {
   "cell_type": "code",
   "execution_count": 8,
   "metadata": {},
   "outputs": [],
   "source": [
    "#Set of hyperparameters for svm\n",
    "gamma_val  =  [0.001, 0.01, 0.1,  1, 10, 20, 'auto'] \n",
    "gamma_val  =  ['scale'] \n",
    "c_val      = [0.01, 0.1, 1, 3,5, 10, 50, 100, 200]\n",
    "#c_val      = [100]\n",
    "\n",
    "kernel_val = ['rbf','linear']\n",
    "\n",
    "\n",
    "svm_result = [] # Empty Result set\n",
    "\n",
    "#Loop trought theses parameters\n",
    "for k in kernel_val:\n",
    "    \n",
    "    for g in gamma_val:\n",
    "        for b in c_val:\n",
    "\n",
    "            svm_loop = SVC(kernel=k, C=b, gamma=g)\n",
    "            svm_loop.fit(X_tr, y_tr) # Fit\n",
    "        \n",
    "            svm_result.append({  # Add the parameters and the valid and test score\n",
    "                'kernel' : k,\n",
    "                'gamma': g,\n",
    "                'C': b,\n",
    "                'valid_accuracy': svm_loop.score(X_va, y_va)\n",
    "                \n",
    "            })\n",
    "\n"
   ]
  },
  {
   "cell_type": "markdown",
   "metadata": {},
   "source": [
    "Results of SVM"
   ]
  },
  {
   "cell_type": "code",
   "execution_count": 9,
   "metadata": {},
   "outputs": [
    {
     "data": {
      "text/html": [
       "<div>\n",
       "<style scoped>\n",
       "    .dataframe tbody tr th:only-of-type {\n",
       "        vertical-align: middle;\n",
       "    }\n",
       "\n",
       "    .dataframe tbody tr th {\n",
       "        vertical-align: top;\n",
       "    }\n",
       "\n",
       "    .dataframe thead th {\n",
       "        text-align: right;\n",
       "    }\n",
       "</style>\n",
       "<table border=\"1\" class=\"dataframe\">\n",
       "  <thead>\n",
       "    <tr style=\"text-align: right;\">\n",
       "      <th></th>\n",
       "      <th>C</th>\n",
       "      <th>gamma</th>\n",
       "      <th>kernel</th>\n",
       "      <th>valid_accuracy</th>\n",
       "    </tr>\n",
       "  </thead>\n",
       "  <tbody>\n",
       "    <tr>\n",
       "      <th>9</th>\n",
       "      <td>0.01</td>\n",
       "      <td>scale</td>\n",
       "      <td>linear</td>\n",
       "      <td>0.892086</td>\n",
       "    </tr>\n",
       "    <tr>\n",
       "      <th>10</th>\n",
       "      <td>0.10</td>\n",
       "      <td>scale</td>\n",
       "      <td>linear</td>\n",
       "      <td>0.884892</td>\n",
       "    </tr>\n",
       "    <tr>\n",
       "      <th>11</th>\n",
       "      <td>1.00</td>\n",
       "      <td>scale</td>\n",
       "      <td>linear</td>\n",
       "      <td>0.884892</td>\n",
       "    </tr>\n",
       "    <tr>\n",
       "      <th>12</th>\n",
       "      <td>3.00</td>\n",
       "      <td>scale</td>\n",
       "      <td>linear</td>\n",
       "      <td>0.884892</td>\n",
       "    </tr>\n",
       "    <tr>\n",
       "      <th>13</th>\n",
       "      <td>5.00</td>\n",
       "      <td>scale</td>\n",
       "      <td>linear</td>\n",
       "      <td>0.884892</td>\n",
       "    </tr>\n",
       "    <tr>\n",
       "      <th>14</th>\n",
       "      <td>10.00</td>\n",
       "      <td>scale</td>\n",
       "      <td>linear</td>\n",
       "      <td>0.884892</td>\n",
       "    </tr>\n",
       "    <tr>\n",
       "      <th>15</th>\n",
       "      <td>50.00</td>\n",
       "      <td>scale</td>\n",
       "      <td>linear</td>\n",
       "      <td>0.884892</td>\n",
       "    </tr>\n",
       "    <tr>\n",
       "      <th>16</th>\n",
       "      <td>100.00</td>\n",
       "      <td>scale</td>\n",
       "      <td>linear</td>\n",
       "      <td>0.884892</td>\n",
       "    </tr>\n",
       "    <tr>\n",
       "      <th>17</th>\n",
       "      <td>200.00</td>\n",
       "      <td>scale</td>\n",
       "      <td>linear</td>\n",
       "      <td>0.884892</td>\n",
       "    </tr>\n",
       "  </tbody>\n",
       "</table>\n",
       "</div>"
      ],
      "text/plain": [
       "         C  gamma  kernel  valid_accuracy\n",
       "9     0.01  scale  linear        0.892086\n",
       "10    0.10  scale  linear        0.884892\n",
       "11    1.00  scale  linear        0.884892\n",
       "12    3.00  scale  linear        0.884892\n",
       "13    5.00  scale  linear        0.884892\n",
       "14   10.00  scale  linear        0.884892\n",
       "15   50.00  scale  linear        0.884892\n",
       "16  100.00  scale  linear        0.884892\n",
       "17  200.00  scale  linear        0.884892"
      ]
     },
     "execution_count": 9,
     "metadata": {},
     "output_type": "execute_result"
    }
   ],
   "source": [
    "# Convert results to DataFrame\n",
    "svm_result = pd.DataFrame(svm_result)\n",
    "\n",
    "# Top ten parameters for linear kernel\n",
    "svm_result[svm_result.kernel == 'linear'].sort_values(by='valid_accuracy', ascending=False).head(10)\n"
   ]
  },
  {
   "cell_type": "code",
   "execution_count": 10,
   "metadata": {},
   "outputs": [
    {
     "data": {
      "text/html": [
       "<div>\n",
       "<style scoped>\n",
       "    .dataframe tbody tr th:only-of-type {\n",
       "        vertical-align: middle;\n",
       "    }\n",
       "\n",
       "    .dataframe tbody tr th {\n",
       "        vertical-align: top;\n",
       "    }\n",
       "\n",
       "    .dataframe thead th {\n",
       "        text-align: right;\n",
       "    }\n",
       "</style>\n",
       "<table border=\"1\" class=\"dataframe\">\n",
       "  <thead>\n",
       "    <tr style=\"text-align: right;\">\n",
       "      <th></th>\n",
       "      <th>C</th>\n",
       "      <th>gamma</th>\n",
       "      <th>kernel</th>\n",
       "      <th>valid_accuracy</th>\n",
       "    </tr>\n",
       "  </thead>\n",
       "  <tbody>\n",
       "    <tr>\n",
       "      <th>3</th>\n",
       "      <td>3.00</td>\n",
       "      <td>scale</td>\n",
       "      <td>rbf</td>\n",
       "      <td>0.928058</td>\n",
       "    </tr>\n",
       "    <tr>\n",
       "      <th>4</th>\n",
       "      <td>5.00</td>\n",
       "      <td>scale</td>\n",
       "      <td>rbf</td>\n",
       "      <td>0.928058</td>\n",
       "    </tr>\n",
       "    <tr>\n",
       "      <th>5</th>\n",
       "      <td>10.00</td>\n",
       "      <td>scale</td>\n",
       "      <td>rbf</td>\n",
       "      <td>0.928058</td>\n",
       "    </tr>\n",
       "    <tr>\n",
       "      <th>6</th>\n",
       "      <td>50.00</td>\n",
       "      <td>scale</td>\n",
       "      <td>rbf</td>\n",
       "      <td>0.928058</td>\n",
       "    </tr>\n",
       "    <tr>\n",
       "      <th>7</th>\n",
       "      <td>100.00</td>\n",
       "      <td>scale</td>\n",
       "      <td>rbf</td>\n",
       "      <td>0.928058</td>\n",
       "    </tr>\n",
       "    <tr>\n",
       "      <th>8</th>\n",
       "      <td>200.00</td>\n",
       "      <td>scale</td>\n",
       "      <td>rbf</td>\n",
       "      <td>0.928058</td>\n",
       "    </tr>\n",
       "    <tr>\n",
       "      <th>2</th>\n",
       "      <td>1.00</td>\n",
       "      <td>scale</td>\n",
       "      <td>rbf</td>\n",
       "      <td>0.920863</td>\n",
       "    </tr>\n",
       "    <tr>\n",
       "      <th>1</th>\n",
       "      <td>0.10</td>\n",
       "      <td>scale</td>\n",
       "      <td>rbf</td>\n",
       "      <td>0.669065</td>\n",
       "    </tr>\n",
       "    <tr>\n",
       "      <th>0</th>\n",
       "      <td>0.01</td>\n",
       "      <td>scale</td>\n",
       "      <td>rbf</td>\n",
       "      <td>0.237410</td>\n",
       "    </tr>\n",
       "  </tbody>\n",
       "</table>\n",
       "</div>"
      ],
      "text/plain": [
       "        C  gamma kernel  valid_accuracy\n",
       "3    3.00  scale    rbf        0.928058\n",
       "4    5.00  scale    rbf        0.928058\n",
       "5   10.00  scale    rbf        0.928058\n",
       "6   50.00  scale    rbf        0.928058\n",
       "7  100.00  scale    rbf        0.928058\n",
       "8  200.00  scale    rbf        0.928058\n",
       "2    1.00  scale    rbf        0.920863\n",
       "1    0.10  scale    rbf        0.669065\n",
       "0    0.01  scale    rbf        0.237410"
      ]
     },
     "execution_count": 10,
     "metadata": {},
     "output_type": "execute_result"
    }
   ],
   "source": [
    "# Top ten parameters for rbf kernel\n",
    "svm_result[svm_result.kernel == 'rbf'].sort_values(by='valid_accuracy', ascending=False).head(10)"
   ]
  },
  {
   "cell_type": "markdown",
   "metadata": {},
   "source": [
    "__Result:__\n",
    "\n",
    "> rbf kernel vs linear kernal: on the validation set the rbf kernel performs better than the linear kernal. See the accuracy values above in the dataframe list."
   ]
  },
  {
   "cell_type": "markdown",
   "metadata": {},
   "source": [
    "Calculate accuracy on test set"
   ]
  },
  {
   "cell_type": "code",
   "execution_count": 11,
   "metadata": {},
   "outputs": [
    {
     "name": "stdout",
     "output_type": "stream",
     "text": [
      "Valid accuracy with rbf kernel: 92.8%\n",
      "Test accuracy with rbf kernel:  94.0%\n"
     ]
    }
   ],
   "source": [
    "from sklearn.svm import SVC\n",
    "# Create SVM with RBF kernel\n",
    "rbf_svc = SVC(kernel='rbf', C=3,gamma = 'scale')\n",
    "# Fit estimator\n",
    "rbf_svc.fit(X_tr, y_tr)\n",
    "# Accuracy on test set\n",
    "accuracy_rbf_valid = rbf_svc.score(X_va, y_va)\n",
    "accuracy_rbf_test = rbf_svc.score(X_te, y_te)\n",
    "print('Valid accuracy with rbf kernel: {:.1f}%'.format(100*accuracy_rbf_valid)) # \n",
    "print('Test accuracy with rbf kernel:  {:.1f}%'.format(100*accuracy_rbf_test)) # "
   ]
  },
  {
   "cell_type": "code",
   "execution_count": 12,
   "metadata": {},
   "outputs": [
    {
     "name": "stdout",
     "output_type": "stream",
     "text": [
      "Valid accuracy with rbf kernel: 89.2%\n",
      "Test accuracy with rbf kernel:  94.0%\n"
     ]
    }
   ],
   "source": [
    "from sklearn.svm import SVC\n",
    "# Create SVM with RBF kernel\n",
    "linear_svc = SVC(kernel='linear', C=0.01,gamma = 'scale')\n",
    "# Fit estimator\n",
    "linear_svc.fit(X_tr, y_tr)\n",
    "# Accuracy on test set\n",
    "accuracy_linear_valid = linear_svc.score(X_va, y_va)\n",
    "accuracy_linear_test = linear_svc.score(X_te, y_te)\n",
    "print('Valid accuracy with rbf kernel: {:.1f}%'.format(100*accuracy_linear_valid)) # \n",
    "print('Test accuracy with rbf kernel:  {:.1f}%'.format(100*accuracy_linear_test)) # "
   ]
  },
  {
   "cell_type": "code",
   "execution_count": 13,
   "metadata": {},
   "outputs": [
    {
     "data": {
      "text/html": [
       "<div>\n",
       "<style scoped>\n",
       "    .dataframe tbody tr th:only-of-type {\n",
       "        vertical-align: middle;\n",
       "    }\n",
       "\n",
       "    .dataframe tbody tr th {\n",
       "        vertical-align: top;\n",
       "    }\n",
       "\n",
       "    .dataframe thead th {\n",
       "        text-align: right;\n",
       "    }\n",
       "</style>\n",
       "<table border=\"1\" class=\"dataframe\">\n",
       "  <thead>\n",
       "    <tr style=\"text-align: right;\">\n",
       "      <th></th>\n",
       "      <th>model</th>\n",
       "      <th>test accuracy</th>\n",
       "    </tr>\n",
       "  </thead>\n",
       "  <tbody>\n",
       "    <tr>\n",
       "      <th>0</th>\n",
       "      <td>knn</td>\n",
       "      <td>0.84</td>\n",
       "    </tr>\n",
       "    <tr>\n",
       "      <th>1</th>\n",
       "      <td>decision tree</td>\n",
       "      <td>0.90</td>\n",
       "    </tr>\n",
       "    <tr>\n",
       "      <th>2</th>\n",
       "      <td>Logistic</td>\n",
       "      <td>0.94</td>\n",
       "    </tr>\n",
       "    <tr>\n",
       "      <th>3</th>\n",
       "      <td>smv linear</td>\n",
       "      <td>0.94</td>\n",
       "    </tr>\n",
       "    <tr>\n",
       "      <th>4</th>\n",
       "      <td>smv rbf</td>\n",
       "      <td>0.94</td>\n",
       "    </tr>\n",
       "    <tr>\n",
       "      <th>5</th>\n",
       "      <td>random forest</td>\n",
       "      <td>0.94</td>\n",
       "    </tr>\n",
       "  </tbody>\n",
       "</table>\n",
       "</div>"
      ],
      "text/plain": [
       "           model  test accuracy\n",
       "0            knn           0.84\n",
       "1  decision tree           0.90\n",
       "2       Logistic           0.94\n",
       "3     smv linear           0.94\n",
       "4        smv rbf           0.94\n",
       "5  random forest           0.94"
      ]
     },
     "execution_count": 13,
     "metadata": {},
     "output_type": "execute_result"
    }
   ],
   "source": [
    "# Load the pickle file\n",
    "df = pd.read_csv(data_dir + 'data.csv', index_col=0)\n",
    "df = df.append({\n",
    "       'model':         'smv linear',\n",
    "       'test accuracy': accuracy_linear_test\n",
    "            },ignore_index=True)  \n",
    "df = df.append({\n",
    "       'model':         'smv rbf',\n",
    "       'test accuracy': accuracy_rbf_test\n",
    "            },ignore_index=True)  \n",
    "\n",
    "df = df.append({\n",
    "       'model':         'random forest',\n",
    "       'test accuracy': accuracy_rf_test\n",
    "            },ignore_index=True)  \n",
    "\n",
    "df.to_csv(data_dir + 'data.csv')\n",
    "# read all results from csv and print \n",
    "df = pd.read_csv(data_dir + 'data.csv', index_col=0)\n",
    "df"
   ]
  }
 ],
 "metadata": {
  "kernelspec": {
   "display_name": "Python 3",
   "language": "python",
   "name": "python3"
  },
  "language_info": {
   "codemirror_mode": {
    "name": "ipython",
    "version": 3
   },
   "file_extension": ".py",
   "mimetype": "text/x-python",
   "name": "python",
   "nbconvert_exporter": "python",
   "pygments_lexer": "ipython3",
   "version": "3.6.11"
  }
 },
 "nbformat": 4,
 "nbformat_minor": 4
}
