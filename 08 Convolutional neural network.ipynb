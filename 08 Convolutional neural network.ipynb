{
 "cells": [
  {
   "cell_type": "markdown",
   "metadata": {},
   "source": [
    "### __8) Conv network__ \n",
    "\n",
    "\n",
    "You tested above di􀁼erent models with the set of high-level features extracted from a\n",
    "pretrained neural network. However, can you get similar results by creating a ConvNet\n",
    "from scratch and using the pixel values from the original images to train the model?\n",
    "- What accuracy can you achieve?\n",
    "- Can you get good results? - If not, why?\n",
    "\n",
    "\n"
   ]
  },
  {
   "cell_type": "code",
   "execution_count": 1,
   "metadata": {},
   "outputs": [
    {
     "name": "stderr",
     "output_type": "stream",
     "text": [
      "Using TensorFlow backend.\n"
     ]
    }
   ],
   "source": [
    "import keras\n",
    "from keras.datasets        import mnist\n",
    "from keras.models          import Sequential\n",
    "from keras.layers          import Dense, Dropout, Flatten\n",
    "from tensorflow.keras.preprocessing.image import ImageDataGenerator\n",
    "from keras.layers          import Conv2D, MaxPooling2D\n",
    "from sklearn.preprocessing import StandardScaler\n",
    "from keras.utils           import plot_model\n",
    "from keras import backend as K\n",
    "\n",
    "import matplotlib.image as mpimg\n",
    "import glob\n",
    "import numpy            as np\n",
    "import pandas           as pd\n",
    "import os               as os\n",
    "import tensorflow       as tf \n",
    "\n",
    "%matplotlib inline\n",
    "import seaborn as sns\n",
    "import matplotlib.pyplot as plt\n",
    "\n"
   ]
  },
  {
   "cell_type": "code",
   "execution_count": 2,
   "metadata": {},
   "outputs": [],
   "source": [
    "data_dir = 'C:/Users/tgdreju4/OneDrive - Swisscom/EPFL/Notebooks/04ML/swissroads/'\n",
    "my_dir = data_dir + 'test/'"
   ]
  },
  {
   "cell_type": "code",
   "execution_count": 3,
   "metadata": {},
   "outputs": [],
   "source": [
    "# Create image generator\n",
    "# rescale the image to have values between 0 and 1\n",
    "\n",
    "train_generator = ImageDataGenerator(\n",
    "                           rescale=1/255, \n",
    "                           horizontal_flip=True, \n",
    "                           rotation_range=5, \n",
    "                           validation_split=0.2)\n",
    "\n",
    "test_generator   = ImageDataGenerator(rescale=1/255)\n",
    "valid_generator  = ImageDataGenerator(rescale=1/255)"
   ]
  },
  {
   "cell_type": "code",
   "execution_count": 4,
   "metadata": {},
   "outputs": [
    {
     "name": "stdout",
     "output_type": "stream",
     "text": [
      "Found 280 images belonging to 6 classes.\n",
      "Found 139 images belonging to 6 classes.\n",
      "Found 50 images belonging to 6 classes.\n"
     ]
    }
   ],
   "source": [
    "import os\n",
    "tsize = (256,256)\n",
    "# Train, validation and test sets\n",
    "trainset = train_generator.flow_from_directory(data_dir + 'train', \n",
    "                                               batch_size=32, \n",
    "                                               target_size=tsize,\n",
    "                                                #class_mode=\"sparse\",\n",
    "                                               shuffle=False)\n",
    "validset = valid_generator.flow_from_directory(data_dir + 'valid', \n",
    "                                               batch_size=32, \n",
    "                                               target_size=tsize,\n",
    "                                                #class_mode=\"sparse\",\n",
    "                                               shuffle=False)\n",
    "testset = train_generator.flow_from_directory(data_dir + 'test', \n",
    "                                               batch_size=32, \n",
    "                                              target_size=tsize,\n",
    "                                              #class_mode=\"sparse\",\n",
    "                                              shuffle=False)"
   ]
  },
  {
   "cell_type": "code",
   "execution_count": 5,
   "metadata": {},
   "outputs": [
    {
     "name": "stdout",
     "output_type": "stream",
     "text": [
      "validset.class_indices:  {'bike': 0, 'car': 1, 'motorcycle': 2, 'other': 3, 'truck': 4, 'van': 5}\n",
      "validset.num_classes:    6\n"
     ]
    }
   ],
   "source": [
    "print('validset.class_indices: ', validset.class_indices)\n",
    "print('validset.num_classes:   ', validset.num_classes)\n"
   ]
  },
  {
   "cell_type": "code",
   "execution_count": 6,
   "metadata": {},
   "outputs": [
    {
     "name": "stdout",
     "output_type": "stream",
     "text": [
      "Model: \"sequential_1\"\n",
      "_________________________________________________________________\n",
      "Layer (type)                 Output Shape              Param #   \n",
      "=================================================================\n",
      "conv2d_1 (Conv2D)            (None, 126, 126, 32)      2432      \n",
      "_________________________________________________________________\n",
      "max_pooling2d_1 (MaxPooling2 (None, 63, 63, 32)        0         \n",
      "_________________________________________________________________\n",
      "conv2d_2 (Conv2D)            (None, 61, 61, 64)        18496     \n",
      "_________________________________________________________________\n",
      "max_pooling2d_2 (MaxPooling2 (None, 30, 30, 64)        0         \n",
      "_________________________________________________________________\n",
      "conv2d_3 (Conv2D)            (None, 28, 28, 128)       73856     \n",
      "_________________________________________________________________\n",
      "max_pooling2d_3 (MaxPooling2 (None, 14, 14, 128)       0         \n",
      "_________________________________________________________________\n",
      "conv2d_4 (Conv2D)            (None, 12, 12, 64)        73792     \n",
      "_________________________________________________________________\n",
      "max_pooling2d_4 (MaxPooling2 (None, 6, 6, 64)          0         \n",
      "_________________________________________________________________\n",
      "flatten_1 (Flatten)          (None, 2304)              0         \n",
      "_________________________________________________________________\n",
      "dense_1 (Dense)              (None, 6)                 13830     \n",
      "=================================================================\n",
      "Total params: 182,406\n",
      "Trainable params: 182,406\n",
      "Non-trainable params: 0\n",
      "_________________________________________________________________\n"
     ]
    }
   ],
   "source": [
    "# Convolutional Network  withn Keras Model which is more convenient \n",
    "model = keras.Sequential()\n",
    "\n",
    "model.add(keras.layers.Conv2D(filters=32, kernel_size=5, strides=2, activation='relu', input_shape=(256, 256, 3)))\n",
    "model.add(keras.layers.MaxPool2D(pool_size=2))\n",
    "model.add(keras.layers.Conv2D(filters=64, kernel_size=3, strides=1, activation='relu'))\n",
    "model.add(keras.layers.MaxPool2D(pool_size=2))\n",
    "model.add(keras.layers.Conv2D(filters=128, kernel_size=3, strides=1, activation='relu'))\n",
    "model.add(keras.layers.MaxPool2D(pool_size=2))\n",
    "model.add(keras.layers.Conv2D(filters=64, kernel_size=3, strides=1, activation='relu'))\n",
    "model.add(keras.layers.MaxPool2D(pool_size=2))\n",
    "model.add(keras.layers.Flatten())\n",
    "model.add(keras.layers.Dense(units=trainset.num_classes, activation='softmax'))\n",
    "\n",
    "model.summary()"
   ]
  },
  {
   "cell_type": "code",
   "execution_count": 7,
   "metadata": {},
   "outputs": [
    {
     "name": "stdout",
     "output_type": "stream",
     "text": [
      "Epoch 1/100\n",
      "9/9 [==============================] - 7s 785ms/step - loss: 1.8716 - acc: 0.0393 - val_loss: 1.8479 - val_acc: 0.2086\n",
      "Epoch 2/100\n",
      "9/9 [==============================] - 7s 792ms/step - loss: 1.7916 - acc: 0.1679 - val_loss: 1.8205 - val_acc: 0.2374\n",
      "Epoch 3/100\n",
      "9/9 [==============================] - 8s 861ms/step - loss: 1.7908 - acc: 0.2286 - val_loss: 1.8689 - val_acc: 0.2374\n",
      "Epoch 4/100\n",
      "9/9 [==============================] - 8s 834ms/step - loss: 1.8043 - acc: 0.2286 - val_loss: 1.9241 - val_acc: 0.2302\n",
      "Epoch 5/100\n",
      "9/9 [==============================] - 9s 968ms/step - loss: 1.7878 - acc: 0.2286 - val_loss: 1.8383 - val_acc: 0.2734\n",
      "Epoch 6/100\n",
      "9/9 [==============================] - 9s 948ms/step - loss: 1.7847 - acc: 0.2179 - val_loss: 1.8374 - val_acc: 0.2374\n",
      "Epoch 7/100\n",
      "9/9 [==============================] - 8s 934ms/step - loss: 1.7817 - acc: 0.2357 - val_loss: 1.8581 - val_acc: 0.2374\n",
      "Epoch 8/100\n",
      "9/9 [==============================] - 8s 911ms/step - loss: 1.7788 - acc: 0.2357 - val_loss: 1.9373 - val_acc: 0.2374\n",
      "Epoch 9/100\n",
      "9/9 [==============================] - 8s 918ms/step - loss: 1.8499 - acc: 0.2286 - val_loss: 2.1456 - val_acc: 0.2446\n",
      "Epoch 10/100\n",
      "9/9 [==============================] - 8s 929ms/step - loss: 1.7719 - acc: 0.2357 - val_loss: 1.8831 - val_acc: 0.2374\n",
      "Epoch 11/100\n",
      "9/9 [==============================] - 8s 896ms/step - loss: 1.7850 - acc: 0.2357 - val_loss: 1.8489 - val_acc: 0.2374\n",
      "Epoch 12/100\n",
      "9/9 [==============================] - 8s 932ms/step - loss: 1.7794 - acc: 0.2357 - val_loss: 1.8584 - val_acc: 0.2374\n",
      "Epoch 13/100\n",
      "9/9 [==============================] - 8s 928ms/step - loss: 1.7759 - acc: 0.2357 - val_loss: 1.8789 - val_acc: 0.2374\n",
      "Epoch 14/100\n",
      "9/9 [==============================] - 8s 936ms/step - loss: 1.7934 - acc: 0.2357 - val_loss: 1.9600 - val_acc: 0.2374\n",
      "Epoch 15/100\n",
      "9/9 [==============================] - 8s 916ms/step - loss: 1.7690 - acc: 0.2357 - val_loss: 1.9034 - val_acc: 0.2374\n",
      "Epoch 16/100\n",
      "9/9 [==============================] - 8s 855ms/step - loss: 1.7735 - acc: 0.2357 - val_loss: 1.9488 - val_acc: 0.2374\n",
      "Epoch 17/100\n",
      "9/9 [==============================] - 8s 846ms/step - loss: 1.7643 - acc: 0.2357 - val_loss: 1.9525 - val_acc: 0.2374\n"
     ]
    }
   ],
   "source": [
    "# Compile the model\n",
    "model.compile(optimizer=keras.optimizers.Adam(), loss='categorical_crossentropy', metrics=['acc'])\n",
    "\n",
    "# End training when accuracy stops improving (optional)\n",
    "early_stopping = keras.callbacks.EarlyStopping(monitor='val_loss', patience=15)\n",
    "# Stops the fitting process when the accuracy is not increasing for more than 8 epoch.\n",
    "\n",
    "# Train model\n",
    "history = model.fit_generator(generator=trainset, validation_data=validset, epochs=100, callbacks=[early_stopping])"
   ]
  },
  {
   "cell_type": "markdown",
   "metadata": {},
   "source": [
    "Visualize the training curves"
   ]
  },
  {
   "cell_type": "code",
   "execution_count": 8,
   "metadata": {},
   "outputs": [
    {
     "data": {
      "image/png": "[encoded data removed]",
      "text/plain": [
       "<Figure size 864x288 with 2 Axes>"
      ]
     },
     "metadata": {
      "needs_background": "light"
     },
     "output_type": "display_data"
    }
   ],
   "source": [
    "%matplotlib inline\n",
    "import matplotlib.pyplot as plt\n",
    "fig, (ax1, ax2) = plt.subplots(nrows=1, ncols=2, figsize=(12, 4))\n",
    "# Plot loss values\n",
    "ax1.set_title('loss: {:.4f}'.format(history.history['val_loss'][-1]))\n",
    "ax1.plot(history.history['val_loss'], label='validation')\n",
    "ax1.plot(history.history['loss'], label='training')\n",
    "ax1.legend()\n",
    "# plot accuracy values\n",
    "ax2.set_title('accuracy: {:.2f}%'.format(history.history['val_acc'][-1]*100))\n",
    "ax2.plot(history.history['val_acc'], label='validation')\n",
    "ax2.plot(history.history['acc'], label='training')\n",
    "ax2.legend()\n",
    "plt.show()"
   ]
  },
  {
   "cell_type": "markdown",
   "metadata": {},
   "source": [
    "#### __Results__"
   ]
  },
  {
   "cell_type": "markdown",
   "metadata": {},
   "source": [
    "> What accuracy can you achieve?\n",
    "> Can you get good results? - If not, why?\n",
    "\n",
    "> The results are not as good as the previous models and estimators. One reason is the small size of the training data. \n",
    "> Another reason is that this model is not using high-level features extracted from a pretrained convolutional neural network from TensorFlow Hub which is highly optimized by many professional engineers working on this.\n",
    "> It is not possible to get better results with my own ConvNet trained with the raw pixel images. "
   ]
  },
  {
   "cell_type": "markdown",
   "metadata": {},
   "source": [
    "#### Evaulate the model on the final test data with evaluate()"
   ]
  },
  {
   "cell_type": "code",
   "execution_count": 9,
   "metadata": {},
   "outputs": [
    {
     "name": "stdout",
     "output_type": "stream",
     "text": [
      "2/2 [==============================] - 1s 505ms/step\n",
      "Test accuracy: 0.240\n"
     ]
    }
   ],
   "source": [
    "test_accuracy = model.evaluate(testset) # with evaluate of the testset i get the loss value and accuracy\n",
    "print('Test accuracy: {:.3f}'.format(test_accuracy[1]))"
   ]
  },
  {
   "cell_type": "code",
   "execution_count": 10,
   "metadata": {},
   "outputs": [
    {
     "data": {
      "text/html": [
       "<div>\n",
       "<style scoped>\n",
       "    .dataframe tbody tr th:only-of-type {\n",
       "        vertical-align: middle;\n",
       "    }\n",
       "\n",
       "    .dataframe tbody tr th {\n",
       "        vertical-align: top;\n",
       "    }\n",
       "\n",
       "    .dataframe thead th {\n",
       "        text-align: right;\n",
       "    }\n",
       "</style>\n",
       "<table border=\"1\" class=\"dataframe\">\n",
       "  <thead>\n",
       "    <tr style=\"text-align: right;\">\n",
       "      <th></th>\n",
       "      <th>model</th>\n",
       "      <th>test accuracy</th>\n",
       "    </tr>\n",
       "  </thead>\n",
       "  <tbody>\n",
       "    <tr>\n",
       "      <th>0</th>\n",
       "      <td>knn</td>\n",
       "      <td>0.840000</td>\n",
       "    </tr>\n",
       "    <tr>\n",
       "      <th>1</th>\n",
       "      <td>decision tree</td>\n",
       "      <td>0.900000</td>\n",
       "    </tr>\n",
       "    <tr>\n",
       "      <th>2</th>\n",
       "      <td>Logistic</td>\n",
       "      <td>0.940000</td>\n",
       "    </tr>\n",
       "    <tr>\n",
       "      <th>3</th>\n",
       "      <td>smv linear</td>\n",
       "      <td>0.940000</td>\n",
       "    </tr>\n",
       "    <tr>\n",
       "      <th>4</th>\n",
       "      <td>smv rbf</td>\n",
       "      <td>0.940000</td>\n",
       "    </tr>\n",
       "    <tr>\n",
       "      <th>5</th>\n",
       "      <td>random forest</td>\n",
       "      <td>0.940000</td>\n",
       "    </tr>\n",
       "    <tr>\n",
       "      <th>6</th>\n",
       "      <td>1-layer nn</td>\n",
       "      <td>0.920863</td>\n",
       "    </tr>\n",
       "    <tr>\n",
       "      <th>7</th>\n",
       "      <td>2-layer nn</td>\n",
       "      <td>0.928058</td>\n",
       "    </tr>\n",
       "    <tr>\n",
       "      <th>8</th>\n",
       "      <td>Conv network</td>\n",
       "      <td>0.240000</td>\n",
       "    </tr>\n",
       "  </tbody>\n",
       "</table>\n",
       "</div>"
      ],
      "text/plain": [
       "           model  test accuracy\n",
       "0            knn       0.840000\n",
       "1  decision tree       0.900000\n",
       "2       Logistic       0.940000\n",
       "3     smv linear       0.940000\n",
       "4        smv rbf       0.940000\n",
       "5  random forest       0.940000\n",
       "6     1-layer nn       0.920863\n",
       "7     2-layer nn       0.928058\n",
       "8   Conv network       0.240000"
      ]
     },
     "execution_count": 10,
     "metadata": {},
     "output_type": "execute_result"
    }
   ],
   "source": [
    "# Load the result file\n",
    "df = pd.read_csv(data_dir + 'data.csv', index_col=0)\n",
    "\n",
    "df = df.append({\n",
    "'model': 'Conv network',\n",
    "'test accuracy': test_accuracy[1]\n",
    "},ignore_index=True)  \n",
    "\n",
    "df.to_csv(data_dir + 'data.csv')\n",
    "df"
   ]
  }
 ],
 "metadata": {
  "kernelspec": {
   "display_name": "Python 3",
   "language": "python",
   "name": "python3"
  },
  "language_info": {
   "codemirror_mode": {
    "name": "ipython",
    "version": 3
   },
   "file_extension": ".py",
   "mimetype": "text/x-python",
   "name": "python",
   "nbconvert_exporter": "python",
   "pygments_lexer": "ipython3",
   "version": "3.6.11"
  }
 },
 "nbformat": 4,
 "nbformat_minor": 4
}
